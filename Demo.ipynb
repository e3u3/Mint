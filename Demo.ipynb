{
 "cells": [
  {
   "cell_type": "markdown",
   "metadata": {},
   "source": [
    "## Toy demo\n",
    "This notebook shows a simple demo to play with _Mint_. A CNN model with one convolutional layer and two linear layers is trained for around 8,000 samples on MNIST dataset. The modules available up to now:\n",
    "- **Basic**: Conv2d, Linear, Sequential\n",
    "- **Pooling**: MaxPool2d\n",
    "- **Activation**: ReLU\n",
    "- **Transform**: Flat\n",
    "- **Loss**: CrossEntropy\n",
    "- **Optimizer**: SGD"
   ]
  },
  {
   "cell_type": "markdown",
   "metadata": {},
   "source": [
    "### Imports"
   ]
  },
  {
   "cell_type": "code",
   "execution_count": 1,
   "metadata": {},
   "outputs": [],
   "source": [
    "import time\n",
    "import numpy as np\n",
    "import mint.modules as mo\n",
    "import mint.optim as optim\n",
    "from mint.data.utils import *\n",
    "from mint.data.mnist import load_mnist_datasets\n",
    "import matplotlib.pyplot as plt"
   ]
  },
  {
   "cell_type": "markdown",
   "metadata": {},
   "source": [
    "### Load data"
   ]
  },
  {
   "cell_type": "code",
   "execution_count": 2,
   "metadata": {},
   "outputs": [],
   "source": [
    "train_set, val_set, test_set = load_mnist_datasets()\n",
    "## reshape data\n",
    "train_x, val_x = np.reshape(train_set[0],(-1,1,28,28)), np.reshape(val_set[0],(-1,1,28,28)),\n",
    "test_x = np.reshape(test_set[0],(-1,1,28,28))\n",
    "## map labels to categories\n",
    "train_y, val_y, test_y = train_set[1], val_set[1], test_set[1]"
   ]
  },
  {
   "cell_type": "markdown",
   "metadata": {},
   "source": [
    "### Hyper-parameters"
   ]
  },
  {
   "cell_type": "code",
   "execution_count": 3,
   "metadata": {},
   "outputs": [],
   "source": [
    "batch_size = 64\n",
    "epochs = 1\n",
    "lr = 1e-2\n",
    "moment = 0.9\n",
    "weight_decay = 1e-4"
   ]
  },
  {
   "cell_type": "markdown",
   "metadata": {},
   "source": [
    "### Model design"
   ]
  },
  {
   "cell_type": "code",
   "execution_count": 4,
   "metadata": {},
   "outputs": [],
   "source": [
    "model = mo.Sequential(\n",
    "    mo.Conv2d(in_channels=1, out_channels=5, kernel_size=3),\n",
    "    mo.ReLU(in_place=True),\n",
    "    mo.MaxPool2d(kernel_size=4, stride=4),\n",
    "#     mo.Conv2d(in_channels=5, out_channels=5, kernel_size=3),\n",
    "#     mo.ReLU(in_place=True),\n",
    "#     mo.MaxPool2d(kernel_size=2, stride=2),\n",
    "    mo.Flat(),\n",
    "    mo.Linear(5*7*7, 64),\n",
    "    mo.ReLU(in_place=True),\n",
    "    mo.Linear(64, 10),\n",
    ")"
   ]
  },
  {
   "cell_type": "markdown",
   "metadata": {},
   "source": [
    "### Objevtice function & optimizer"
   ]
  },
  {
   "cell_type": "code",
   "execution_count": 5,
   "metadata": {},
   "outputs": [],
   "source": [
    "objective = mo.CrossEntropy()\n",
    "optimizer = optim.SGD(model.modules, lr=lr, moment=moment, weight_decay=weight_decay)"
   ]
  },
  {
   "cell_type": "markdown",
   "metadata": {},
   "source": [
    "### Training"
   ]
  },
  {
   "cell_type": "code",
   "execution_count": 6,
   "metadata": {},
   "outputs": [
    {
     "name": "stdout",
     "output_type": "stream",
     "text": [
      "[epoch 1][10, 782] loss=2.27, accuracy=0.19, elapse time=63.41s.\n",
      "[epoch 1][20, 782] loss=2.25, accuracy=0.20, elapse time=63.16s.\n",
      "[epoch 1][30, 782] loss=2.17, accuracy=0.42, elapse time=64.77s.\n",
      "[epoch 1][40, 782] loss=2.08, accuracy=0.39, elapse time=66.02s.\n",
      "[epoch 1][50, 782] loss=2.00, accuracy=0.45, elapse time=64.04s.\n",
      "[epoch 1][60, 782] loss=1.59, accuracy=0.59, elapse time=63.07s.\n",
      "[epoch 1][70, 782] loss=1.11, accuracy=0.75, elapse time=63.18s.\n",
      "[epoch 1][80, 782] loss=0.96, accuracy=0.64, elapse time=63.25s.\n",
      "[epoch 1][90, 782] loss=0.63, accuracy=0.77, elapse time=63.25s.\n",
      "[epoch 1][100, 782] loss=0.83, accuracy=0.69, elapse time=64.33s.\n",
      "[epoch 1][110, 782] loss=0.52, accuracy=0.81, elapse time=63.30s.\n",
      "[epoch 1][120, 782] loss=0.66, accuracy=0.83, elapse time=65.40s.\n",
      "[epoch 1][130, 782] loss=0.55, accuracy=0.81, elapse time=63.28s.\n",
      "[epoch 1][140, 782] loss=0.37, accuracy=0.91, elapse time=68.46s.\n",
      "[epoch 1][150, 782] loss=0.48, accuracy=0.86, elapse time=70.94s.\n",
      "[epoch 1][160, 782] loss=0.58, accuracy=0.81, elapse time=71.19s.\n",
      "[epoch 1][170, 782] loss=0.46, accuracy=0.80, elapse time=73.24s.\n",
      "[epoch 1][180, 782] loss=0.41, accuracy=0.88, elapse time=66.11s.\n",
      "[epoch 1][190, 782] loss=0.20, accuracy=0.91, elapse time=66.11s.\n",
      "[epoch 1][200, 782] loss=0.56, accuracy=0.83, elapse time=66.19s.\n",
      "[epoch 1][210, 782] loss=0.38, accuracy=0.88, elapse time=66.18s.\n",
      "[epoch 1][220, 782] loss=0.35, accuracy=0.88, elapse time=67.16s.\n",
      "[epoch 1][230, 782] loss=0.31, accuracy=0.92, elapse time=67.25s.\n",
      "[epoch 1][240, 782] loss=0.23, accuracy=0.89, elapse time=67.91s.\n",
      "[epoch 1][250, 782] loss=0.26, accuracy=0.95, elapse time=67.03s.\n",
      "[epoch 1]Test accuracy=0.91, elapse time=837.94s.\n"
     ]
    }
   ],
   "source": [
    "loss = list()\n",
    "for epoch in range(epochs):\n",
    "    random_idxs = get_random_idxs(batch_size, len(train_y))\n",
    "    current = time.time()\n",
    "    model.train()\n",
    "    for batch in range(len(random_idxs)):\n",
    "        data, label = next_batch((train_x, train_y), batch, random_idxs)\n",
    "        output = model.forward(data)\n",
    "        loss.append(objective.forward(output, label))\n",
    "        model.backward(objective.backward())\n",
    "        optimizer.step()\n",
    "        if (batch+1) % 10 == 0:\n",
    "            _correct = correct(output, label)\n",
    "            print(\"[epoch %d][%d, %d] loss=%.2f, accuracy=%.2f, elapse time=%.2fs.\" \n",
    "                  % (epoch+1, batch+1, len(random_idxs), loss[-1], _correct * 1. / label.shape[0], time.time() - current))\n",
    "            current = time.time()\n",
    "    \n",
    "        if batch == 256:\n",
    "            ## eval\n",
    "            model.eval()\n",
    "            _correct = 0.\n",
    "            idxs = get_deter_idxs(batch_size, len(test_y))\n",
    "            current = time.time()\n",
    "            for batch in range(len(idxs)):\n",
    "                data, label = next_batch((test_x, test_y), batch, idxs)\n",
    "                output = model.forward(data)\n",
    "                _correct += correct(output.data, label)\n",
    "                _accuracy = _correct / len(test_y)\n",
    "            print(\"[epoch %d]Test accuracy=%.2f, elapse time=%.2fs.\" % (epoch+1, _accuracy, time.time() - current))\n",
    "            break # too slow...."
   ]
  },
  {
   "cell_type": "markdown",
   "metadata": {},
   "source": [
    "### Loss curve"
   ]
  },
  {
   "cell_type": "code",
   "execution_count": 7,
   "metadata": {},
   "outputs": [
    {
     "data": {
      "image/png": "[encoded data removed]",
      "text/plain": [
       "<matplotlib.figure.Figure at 0x116fba145f8>"
      ]
     },
     "metadata": {},
     "output_type": "display_data"
    }
   ],
   "source": [
    "batches = np.arange(0, 257)\n",
    "plt.plot(batches, loss)\n",
    "plt.show()"
   ]
  },
  {
   "cell_type": "markdown",
   "metadata": {},
   "source": [
    "### Random test"
   ]
  },
  {
   "cell_type": "code",
   "execution_count": 8,
   "metadata": {},
   "outputs": [
    {
     "data": {
      "image/png": "[encoded data removed]",
      "text/plain": [
       "<matplotlib.figure.Figure at 0x1168b38bac8>"
      ]
     },
     "metadata": {},
     "output_type": "display_data"
    },
    {
     "name": "stdout",
     "output_type": "stream",
     "text": [
      "ground truth:[8], prediction:8\n"
     ]
    }
   ],
   "source": [
    "idx = np.random.choice(test_x.shape[0], 1)\n",
    "x, y = test_x[idx], test_y[idx]\n",
    "model.eval()\n",
    "y_predict = model.forward(x)\n",
    "plt.figure(figsize=(3,3))\n",
    "plt.imshow(np.reshape(x,(28,28)))\n",
    "plt.show()\n",
    "print(\"ground truth:{}, prediction:{}\".format(y, np.argmax(y_predict)))"
   ]
  },
  {
   "cell_type": "code",
   "execution_count": null,
   "metadata": {},
   "outputs": [],
   "source": []
  }
 ],
 "metadata": {
  "kernelspec": {
   "display_name": "Python 3",
   "language": "python",
   "name": "python3"
  },
  "language_info": {
   "codemirror_mode": {
    "name": "ipython",
    "version": 3
   },
   "file_extension": ".py",
   "mimetype": "text/x-python",
   "name": "python",
   "nbconvert_exporter": "python",
   "pygments_lexer": "ipython3",
   "version": "3.6.4"
  }
 },
 "nbformat": 4,
 "nbformat_minor": 2
}
