{
 "cells": [
  {
   "cell_type": "markdown",
   "metadata": {},
   "source": [
    "## Toy demo\n",
    "This notebook shows a simple demo to play with _Mint_. A CNN model with one convolutional layer and two linear layers is trained for around 8,000 samples on MNIST dataset. The modules available up to now:\n",
    "- **Basic**: Conv2d, Linear, Sequential\n",
    "- **Pooling**: MaxPool2d\n",
    "- **Activation**: ReLU\n",
    "- **Transform**: Flat\n",
    "- **Loss**: CrossEntropy\n",
    "- **Optimizer**: SGD"
   ]
  },
  {
   "cell_type": "markdown",
   "metadata": {},
   "source": [
    "### Imports"
   ]
  },
  {
   "cell_type": "code",
   "execution_count": 1,
   "metadata": {},
   "outputs": [],
   "source": [
    "import time\n",
    "import numpy as np\n",
    "import mint.modules as mo\n",
    "import mint.optim as optim\n",
    "from mint.data.utils import *\n",
    "from mint.data.mnist import load_mnist_datasets\n",
    "import matplotlib.pyplot as plt"
   ]
  },
  {
   "cell_type": "markdown",
   "metadata": {},
   "source": [
    "### Load data"
   ]
  },
  {
   "cell_type": "code",
   "execution_count": 2,
   "metadata": {},
   "outputs": [],
   "source": [
    "train_set, val_set, test_set = load_mnist_datasets()\n",
    "## reshape data\n",
    "train_x, val_x = np.reshape(train_set[0],(-1,1,28,28)), np.reshape(val_set[0],(-1,1,28,28)),\n",
    "test_x = np.reshape(test_set[0],(-1,1,28,28))\n",
    "## map labels to categories\n",
    "train_y, val_y, test_y = train_set[1], val_set[1], test_set[1]"
   ]
  },
  {
   "cell_type": "markdown",
   "metadata": {},
   "source": [
    "### Hyper-parameters"
   ]
  },
  {
   "cell_type": "code",
   "execution_count": 3,
   "metadata": {},
   "outputs": [],
   "source": [
    "batch_size = 64\n",
    "epochs = 1\n",
    "lr = 1e-2\n",
    "moment = 0.9\n",
    "weight_decay = 1e-4"
   ]
  },
  {
   "cell_type": "markdown",
   "metadata": {},
   "source": [
    "### Model design"
   ]
  },
  {
   "cell_type": "code",
   "execution_count": 4,
   "metadata": {},
   "outputs": [],
   "source": [
    "model = mo.Sequential(\n",
    "    mo.Conv2d(in_channels=1, out_channels=5, kernel_size=3),\n",
    "    mo.ReLU(in_place=True),\n",
    "    mo.MaxPool2d(kernel_size=4, stride=4),\n",
    "#     mo.Conv2d(in_channels=5, out_channels=5, kernel_size=3),\n",
    "#     mo.ReLU(in_place=True),\n",
    "#     mo.MaxPool2d(kernel_size=2, stride=2),\n",
    "    mo.Flat(),\n",
    "    mo.Linear(5*7*7, 64),\n",
    "    mo.ReLU(in_place=True),\n",
    "    mo.Linear(64, 10),\n",
    ")"
   ]
  },
  {
   "cell_type": "markdown",
   "metadata": {},
   "source": [
    "### Objevtice function & optimizer"
   ]
  },
  {
   "cell_type": "code",
   "execution_count": 5,
   "metadata": {},
   "outputs": [],
   "source": [
    "objective = mo.CrossEntropy()\n",
    "optimizer = optim.SGD(model.modules, lr=lr, moment=moment, weight_decay=weight_decay)"
   ]
  },
  {
   "cell_type": "markdown",
   "metadata": {},
   "source": [
    "### Training"
   ]
  },
  {
   "cell_type": "code",
   "execution_count": 6,
   "metadata": {},
   "outputs": [
    {
     "name": "stdout",
     "output_type": "stream",
     "text": [
      "[epoch 1][10, 782] loss=2.28, accuracy=0.09, elapse time=33.81s.\n",
      "[epoch 1][20, 782] loss=2.24, accuracy=0.17, elapse time=31.79s.\n",
      "[epoch 1][30, 782] loss=2.15, accuracy=0.33, elapse time=35.27s.\n",
      "[epoch 1][40, 782] loss=2.02, accuracy=0.34, elapse time=42.52s.\n",
      "[epoch 1][50, 782] loss=1.72, accuracy=0.47, elapse time=36.64s.\n",
      "[epoch 1][60, 782] loss=1.29, accuracy=0.58, elapse time=32.35s.\n",
      "[epoch 1][70, 782] loss=1.06, accuracy=0.67, elapse time=33.12s.\n",
      "[epoch 1][80, 782] loss=0.92, accuracy=0.69, elapse time=32.98s.\n",
      "[epoch 1][90, 782] loss=0.65, accuracy=0.81, elapse time=32.68s.\n",
      "[epoch 1][100, 782] loss=0.55, accuracy=0.84, elapse time=31.60s.\n",
      "[epoch 1][110, 782] loss=0.37, accuracy=0.91, elapse time=34.18s.\n",
      "[epoch 1][120, 782] loss=0.64, accuracy=0.75, elapse time=34.90s.\n",
      "[epoch 1][130, 782] loss=0.48, accuracy=0.86, elapse time=33.17s.\n",
      "[epoch 1][140, 782] loss=0.51, accuracy=0.83, elapse time=33.42s.\n",
      "[epoch 1][150, 782] loss=0.42, accuracy=0.88, elapse time=34.37s.\n",
      "[epoch 1][160, 782] loss=0.51, accuracy=0.88, elapse time=32.27s.\n",
      "[epoch 1][170, 782] loss=0.41, accuracy=0.88, elapse time=32.47s.\n",
      "[epoch 1][180, 782] loss=0.32, accuracy=0.86, elapse time=31.82s.\n",
      "[epoch 1][190, 782] loss=0.46, accuracy=0.84, elapse time=32.96s.\n",
      "[epoch 1][200, 782] loss=0.30, accuracy=0.94, elapse time=32.27s.\n",
      "[epoch 1][210, 782] loss=0.34, accuracy=0.88, elapse time=33.93s.\n",
      "[epoch 1][220, 782] loss=0.21, accuracy=0.94, elapse time=34.22s.\n",
      "[epoch 1][230, 782] loss=0.51, accuracy=0.84, elapse time=34.01s.\n",
      "[epoch 1][240, 782] loss=0.40, accuracy=0.89, elapse time=32.73s.\n",
      "[epoch 1][250, 782] loss=0.40, accuracy=0.86, elapse time=34.93s.\n",
      "[epoch 1]Test accuracy=0.90, elapse time=427.06s.\n"
     ]
    }
   ],
   "source": [
    "loss = list()\n",
    "for epoch in range(epochs):\n",
    "    random_idxs = get_random_idxs(batch_size, len(train_y))\n",
    "    current = time.time()\n",
    "    model.train()\n",
    "    for batch in range(len(random_idxs)):\n",
    "        data, label = next_batch((train_x, train_y), batch, random_idxs)\n",
    "        output = model.forward(data)\n",
    "        optimizer.zero_grad()\n",
    "        loss.append(objective.forward(output, label))\n",
    "        model.backward(objective.backward())\n",
    "        optimizer.step()\n",
    "        if (batch+1) % 10 == 0:\n",
    "            _correct = correct(output, label)\n",
    "            print(\"[epoch %d][%d, %d] loss=%.2f, accuracy=%.2f, elapse time=%.2fs.\" \n",
    "                  % (epoch+1, batch+1, len(random_idxs), loss[-1], _correct * 1. / label.shape[0], time.time() - current))\n",
    "            current = time.time()\n",
    "    \n",
    "        if batch == 256:\n",
    "            ## eval\n",
    "            model.eval()\n",
    "            _correct = 0.\n",
    "            idxs = get_deter_idxs(batch_size, len(test_y))\n",
    "            current = time.time()\n",
    "            for batch in range(len(idxs)):\n",
    "                data, label = next_batch((test_x, test_y), batch, idxs)\n",
    "                output = model.forward(data)\n",
    "                _correct += correct(output.data, label)\n",
    "                _accuracy = _correct / len(test_y)\n",
    "            print(\"[epoch %d]Test accuracy=%.2f, elapse time=%.2fs.\" % (epoch+1, _accuracy, time.time() - current))\n",
    "            break # too slow...."
   ]
  },
  {
   "cell_type": "markdown",
   "metadata": {},
   "source": [
    "### Loss curve"
   ]
  },
  {
   "cell_type": "code",
   "execution_count": 7,
   "metadata": {},
   "outputs": [
    {
     "data": {
      "image/png": "[encoded data removed]",
      "text/plain": [
       "<matplotlib.figure.Figure at 0x1ee2ffc05f8>"
      ]
     },
     "metadata": {},
     "output_type": "display_data"
    }
   ],
   "source": [
    "batches = np.arange(0, 257)\n",
    "plt.plot(batches, loss)\n",
    "plt.show()"
   ]
  },
  {
   "cell_type": "markdown",
   "metadata": {},
   "source": [
    "### Random test"
   ]
  },
  {
   "cell_type": "code",
   "execution_count": 8,
   "metadata": {},
   "outputs": [
    {
     "data": {
      "image/png": "[encoded data removed]",
      "text/plain": [
       "<matplotlib.figure.Figure at 0x1ee27296208>"
      ]
     },
     "metadata": {},
     "output_type": "display_data"
    },
    {
     "name": "stdout",
     "output_type": "stream",
     "text": [
      "ground truth:[9], prediction:9\n"
     ]
    }
   ],
   "source": [
    "idx = np.random.choice(test_x.shape[0], 1)\n",
    "x, y = test_x[idx], test_y[idx]\n",
    "model.eval()\n",
    "y_predict = model.forward(x)\n",
    "plt.figure(figsize=(3,3))\n",
    "plt.imshow(np.reshape(x,(28,28)))\n",
    "plt.show()\n",
    "print(\"ground truth:{}, prediction:{}\".format(y, np.argmax(y_predict)))"
   ]
  },
  {
   "cell_type": "code",
   "execution_count": null,
   "metadata": {},
   "outputs": [],
   "source": []
  }
 ],
 "metadata": {
  "kernelspec": {
   "display_name": "Python 3",
   "language": "python",
   "name": "python3"
  },
  "language_info": {
   "codemirror_mode": {
    "name": "ipython",
    "version": 3
   },
   "file_extension": ".py",
   "mimetype": "text/x-python",
   "name": "python",
   "nbconvert_exporter": "python",
   "pygments_lexer": "ipython3",
   "version": "3.6.4"
  }
 },
 "nbformat": 4,
 "nbformat_minor": 2
}
